{
 "cells": [
  {
   "cell_type": "markdown",
   "id": "300c51b8",
   "metadata": {},
   "source": [
    "The differences between the two groups of users can be seen by scrolling all the way to the bottom. The greatest difference that I can find is that the adopted users were much more likely to have joined via an invite (37% vs 57%) and much more likely to send an invite to another user (23% vs 12%)."
   ]
  },
  {
   "cell_type": "code",
   "execution_count": 184,
   "id": "a3152820",
   "metadata": {},
   "outputs": [],
   "source": [
    "import numpy as np\n",
    "import pandas as pd\n",
    "import matplotlib.pyplot as plt"
   ]
  },
  {
   "cell_type": "code",
   "execution_count": 185,
   "id": "5ccb4d56",
   "metadata": {},
   "outputs": [],
   "source": [
    "user_engagement=pd.read_csv(r'takehome_user_engagement.csv')\n",
    "users=pd.read_csv(r'takehome_users.csv',encoding='ISO-8859-1')"
   ]
  },
  {
   "cell_type": "code",
   "execution_count": null,
   "id": "57433c0e",
   "metadata": {
    "scrolled": true
   },
   "outputs": [],
   "source": []
  },
  {
   "cell_type": "code",
   "execution_count": null,
   "id": "0c96cb8d",
   "metadata": {},
   "outputs": [],
   "source": []
  },
  {
   "cell_type": "code",
   "execution_count": 190,
   "id": "0304ea7e",
   "metadata": {},
   "outputs": [],
   "source": [
    "user_engagement['time_stamp']=pd.to_datetime(user_engagement.time_stamp)"
   ]
  },
  {
   "cell_type": "code",
   "execution_count": 191,
   "id": "1b85c0f8",
   "metadata": {},
   "outputs": [],
   "source": [
    "import datetime\n",
    "adopted_user=[]\n",
    "\n",
    "total=0\n",
    "for i in range(len(user_engagement)-3):\n",
    "    if ((user_engagement.user_id.iloc[i]==user_engagement.user_id.iloc[i+3]) and (user_engagement.time_stamp.iloc[i+2]-user_engagement.time_stamp.iloc[i]).days<=7):\n",
    "        adopted_user.append(1)\n",
    "    else:\n",
    "        adopted_user.append(0)\n",
    "        \n",
    "while (len(adopted_user)<len(user_engagement)):\n",
    "    adopted_user.append(0)"
   ]
  },
  {
   "cell_type": "code",
   "execution_count": 192,
   "id": "af9011a8",
   "metadata": {},
   "outputs": [],
   "source": [
    "user_engagement['adopted_user']=adopted_user"
   ]
  },
  {
   "cell_type": "code",
   "execution_count": null,
   "id": "db3fd017",
   "metadata": {},
   "outputs": [],
   "source": []
  },
  {
   "cell_type": "code",
   "execution_count": 193,
   "id": "ebae415b",
   "metadata": {},
   "outputs": [],
   "source": [
    "user_engagement=user_engagement.join(user_engagement[['user_id','adopted_user']].groupby('user_id').sum(),on='user_id',lsuffix='user_engagement')"
   ]
  },
  {
   "cell_type": "code",
   "execution_count": 194,
   "id": "a5ea7807",
   "metadata": {},
   "outputs": [],
   "source": [
    "user_engagement=pd.merge(user_engagement,users,left_on='user_id',right_on='object_id')"
   ]
  },
  {
   "cell_type": "code",
   "execution_count": 195,
   "id": "c25c9544",
   "metadata": {},
   "outputs": [],
   "source": [
    "user_engagement=user_engagement.drop('adopted_useruser_engagement',axis=1)"
   ]
  },
  {
   "cell_type": "code",
   "execution_count": 196,
   "id": "11628197",
   "metadata": {},
   "outputs": [],
   "source": [
    "user_engagement=user_engagement.drop('email',axis=1)"
   ]
  },
  {
   "cell_type": "code",
   "execution_count": 197,
   "id": "1df4dfca",
   "metadata": {},
   "outputs": [],
   "source": [
    "user_engagement=pd.merge(user_engagement,user_engagement['invited_by_user_id'].drop_duplicates(),left_on='user_id',right_on='invited_by_user_id',how='left')"
   ]
  },
  {
   "cell_type": "code",
   "execution_count": 198,
   "id": "82f461e3",
   "metadata": {},
   "outputs": [],
   "source": [
    "user_engagement=user_engagement.rename({'invited_by_user_id_y':'sent_invite'},axis=1)"
   ]
  },
  {
   "cell_type": "code",
   "execution_count": 199,
   "id": "747716a7",
   "metadata": {},
   "outputs": [],
   "source": [
    "user_engagement['sent_invite']=user_engagement['sent_invite']>0"
   ]
  },
  {
   "cell_type": "code",
   "execution_count": 200,
   "id": "01ae42e8",
   "metadata": {},
   "outputs": [],
   "source": [
    "user_engagement['sent_invite']=user_engagement['sent_invite'].apply(lambda x: 1 if x else 0)"
   ]
  },
  {
   "cell_type": "code",
   "execution_count": 201,
   "id": "4b106167",
   "metadata": {},
   "outputs": [],
   "source": [
    "user_engagement=user_engagement.rename({'invited_by_user_id_x':'got_invite'},axis=1)"
   ]
  },
  {
   "cell_type": "code",
   "execution_count": 202,
   "id": "ba57e54f",
   "metadata": {},
   "outputs": [],
   "source": [
    "user_engagement['got_invite']=user_engagement['got_invite']>0\n",
    "user_engagement['got_invite']=user_engagement['got_invite'].apply(lambda x: 1 if x else 0)"
   ]
  },
  {
   "cell_type": "code",
   "execution_count": 203,
   "id": "1a7f4614",
   "metadata": {},
   "outputs": [],
   "source": [
    "user_engagement=user_engagement.drop(['name','time_stamp','creation_time'],axis=1)"
   ]
  },
  {
   "cell_type": "code",
   "execution_count": 206,
   "id": "5a991e39",
   "metadata": {},
   "outputs": [],
   "source": [
    "user_engagement=user_engagement.drop_duplicates()"
   ]
  },
  {
   "cell_type": "code",
   "execution_count": 210,
   "id": "1b204aad",
   "metadata": {},
   "outputs": [],
   "source": [
    "user_engagement=pd.get_dummies(user_engagement)"
   ]
  },
  {
   "cell_type": "code",
   "execution_count": 211,
   "id": "4746a282",
   "metadata": {},
   "outputs": [],
   "source": [
    "full_table=pd.merge(users,user_engagement,left_on='object_id',right_on='user_id',how='left')"
   ]
  },
  {
   "cell_type": "code",
   "execution_count": 217,
   "id": "e511a401",
   "metadata": {},
   "outputs": [],
   "source": [
    "full_table=full_table.rename({'object_id_x':'user_id'},axis=1)"
   ]
  },
  {
   "cell_type": "code",
   "execution_count": 220,
   "id": "823e702d",
   "metadata": {},
   "outputs": [],
   "source": [
    "full_table=full_table.drop(['creation_time','name','email','creation_source','last_session_creation_time_x','opted_in_to_mailing_list_x','enabled_for_marketing_drip_x'],axis=1)"
   ]
  },
  {
   "cell_type": "code",
   "execution_count": 225,
   "id": "34e87a38",
   "metadata": {},
   "outputs": [],
   "source": [
    "full_table=full_table.rename({'org_id_x':'org_id'},axis=1)"
   ]
  },
  {
   "cell_type": "code",
   "execution_count": 228,
   "id": "80e894c6",
   "metadata": {},
   "outputs": [],
   "source": [
    "full_table=full_table.drop(['object_id_y'],axis=1)"
   ]
  },
  {
   "cell_type": "code",
   "execution_count": 230,
   "id": "a8608a1a",
   "metadata": {},
   "outputs": [],
   "source": [
    "full_table=full_table.rename({'last_session_creation_time_y':'last_session_creation_time','opted_in_to_mailing_list_y':'opted_in_to_mailing_list','enabled_for_marketing_drip_y':'enabled_for_marketing_drip'},axis=1)"
   ]
  },
  {
   "cell_type": "code",
   "execution_count": 233,
   "id": "0268d6d2",
   "metadata": {},
   "outputs": [],
   "source": [
    "full_table=full_table.rename({'org_id_y':'org_id'},axis=1)"
   ]
  },
  {
   "cell_type": "code",
   "execution_count": 235,
   "id": "8e50d492",
   "metadata": {},
   "outputs": [],
   "source": [
    "full_table=full_table.drop(['invited_by_user_id'],axis=1)"
   ]
  },
  {
   "cell_type": "code",
   "execution_count": 237,
   "id": "c31b0e8c",
   "metadata": {},
   "outputs": [
    {
     "name": "stderr",
     "output_type": "stream",
     "text": [
      "C:\\Users\\JackW\\AppData\\Local\\Temp/ipykernel_24172/3709502818.py:1: SettingWithCopyWarning: \n",
      "A value is trying to be set on a copy of a slice from a DataFrame.\n",
      "Try using .loc[row_indexer,col_indexer] = value instead\n",
      "\n",
      "See the caveats in the documentation: https://pandas.pydata.org/pandas-docs/stable/user_guide/indexing.html#returning-a-view-versus-a-copy\n",
      "  full_table['adopted_user']=full_table['adopted_user'].apply(lambda x: 1 if x>0 else 0)\n"
     ]
    }
   ],
   "source": [
    "full_table['adopted_user']=full_table['adopted_user'].apply(lambda x: 1 if x>0 else 0)"
   ]
  },
  {
   "cell_type": "code",
   "execution_count": 246,
   "id": "277da688",
   "metadata": {},
   "outputs": [
    {
     "data": {
      "text/plain": [
       "user_id                                  0\n",
       "org_id                                   0\n",
       "user_id                               3177\n",
       "visited                               3177\n",
       "adopted_user                             0\n",
       "last_session_creation_time            3177\n",
       "opted_in_to_mailing_list              3177\n",
       "enabled_for_marketing_drip            3177\n",
       "org_id                                3177\n",
       "got_invite                            3177\n",
       "sent_invite                           3177\n",
       "creation_source_GUEST_INVITE          3177\n",
       "creation_source_ORG_INVITE            3177\n",
       "creation_source_PERSONAL_PROJECTS     3177\n",
       "creation_source_SIGNUP                3177\n",
       "creation_source_SIGNUP_GOOGLE_AUTH    3177\n",
       "dtype: int64"
      ]
     },
     "execution_count": 246,
     "metadata": {},
     "output_type": "execute_result"
    }
   ],
   "source": [
    "full_table[full_table['adopted_user']==0].isna().sum()"
   ]
  },
  {
   "cell_type": "code",
   "execution_count": 247,
   "id": "c54f6c4b",
   "metadata": {},
   "outputs": [
    {
     "data": {
      "text/plain": [
       "user_id                               0\n",
       "org_id                                0\n",
       "user_id                               0\n",
       "visited                               0\n",
       "adopted_user                          0\n",
       "last_session_creation_time            0\n",
       "opted_in_to_mailing_list              0\n",
       "enabled_for_marketing_drip            0\n",
       "org_id                                0\n",
       "got_invite                            0\n",
       "sent_invite                           0\n",
       "creation_source_GUEST_INVITE          0\n",
       "creation_source_ORG_INVITE            0\n",
       "creation_source_PERSONAL_PROJECTS     0\n",
       "creation_source_SIGNUP                0\n",
       "creation_source_SIGNUP_GOOGLE_AUTH    0\n",
       "dtype: int64"
      ]
     },
     "execution_count": 247,
     "metadata": {},
     "output_type": "execute_result"
    }
   ],
   "source": [
    "full_table[full_table['adopted_user']==1].isna().sum()"
   ]
  },
  {
   "cell_type": "code",
   "execution_count": 257,
   "id": "ff8b408d",
   "metadata": {},
   "outputs": [],
   "source": [
    "full_table = full_table.loc[:,~full_table.columns.duplicated()].copy()"
   ]
  },
  {
   "cell_type": "code",
   "execution_count": null,
   "id": "dcebc65c",
   "metadata": {},
   "outputs": [],
   "source": []
  },
  {
   "cell_type": "code",
   "execution_count": null,
   "id": "86e1c3ca",
   "metadata": {},
   "outputs": [],
   "source": []
  },
  {
   "cell_type": "code",
   "execution_count": 261,
   "id": "c1ba0c92",
   "metadata": {},
   "outputs": [],
   "source": [
    "full_table=full_table.fillna(0)"
   ]
  },
  {
   "cell_type": "code",
   "execution_count": 263,
   "id": "03d70b96",
   "metadata": {},
   "outputs": [
    {
     "data": {
      "text/html": [
       "<div>\n",
       "<style scoped>\n",
       "    .dataframe tbody tr th:only-of-type {\n",
       "        vertical-align: middle;\n",
       "    }\n",
       "\n",
       "    .dataframe tbody tr th {\n",
       "        vertical-align: top;\n",
       "    }\n",
       "\n",
       "    .dataframe thead th {\n",
       "        text-align: right;\n",
       "    }\n",
       "</style>\n",
       "<table border=\"1\" class=\"dataframe\">\n",
       "  <thead>\n",
       "    <tr style=\"text-align: right;\">\n",
       "      <th></th>\n",
       "      <th>user_id</th>\n",
       "      <th>org_id</th>\n",
       "      <th>visited</th>\n",
       "      <th>adopted_user</th>\n",
       "      <th>last_session_creation_time</th>\n",
       "      <th>opted_in_to_mailing_list</th>\n",
       "      <th>enabled_for_marketing_drip</th>\n",
       "      <th>got_invite</th>\n",
       "      <th>sent_invite</th>\n",
       "      <th>creation_source_GUEST_INVITE</th>\n",
       "      <th>creation_source_ORG_INVITE</th>\n",
       "      <th>creation_source_PERSONAL_PROJECTS</th>\n",
       "      <th>creation_source_SIGNUP</th>\n",
       "      <th>creation_source_SIGNUP_GOOGLE_AUTH</th>\n",
       "    </tr>\n",
       "  </thead>\n",
       "  <tbody>\n",
       "    <tr>\n",
       "      <th>count</th>\n",
       "      <td>10394.000000</td>\n",
       "      <td>10394.000000</td>\n",
       "      <td>10394.000000</td>\n",
       "      <td>10394.0</td>\n",
       "      <td>1.039400e+04</td>\n",
       "      <td>10394.000000</td>\n",
       "      <td>10394.000000</td>\n",
       "      <td>10394.000000</td>\n",
       "      <td>10394.000000</td>\n",
       "      <td>10394.000000</td>\n",
       "      <td>10394.000000</td>\n",
       "      <td>10394.000000</td>\n",
       "      <td>10394.000000</td>\n",
       "      <td>10394.000000</td>\n",
       "    </tr>\n",
       "    <tr>\n",
       "      <th>mean</th>\n",
       "      <td>5993.826438</td>\n",
       "      <td>138.675582</td>\n",
       "      <td>0.694343</td>\n",
       "      <td>0.0</td>\n",
       "      <td>9.551555e+08</td>\n",
       "      <td>0.174043</td>\n",
       "      <td>0.104964</td>\n",
       "      <td>0.371272</td>\n",
       "      <td>0.121416</td>\n",
       "      <td>0.118434</td>\n",
       "      <td>0.252838</td>\n",
       "      <td>0.057822</td>\n",
       "      <td>0.154224</td>\n",
       "      <td>0.111026</td>\n",
       "    </tr>\n",
       "    <tr>\n",
       "      <th>std</th>\n",
       "      <td>3462.305029</td>\n",
       "      <td>123.910621</td>\n",
       "      <td>0.460707</td>\n",
       "      <td>0.0</td>\n",
       "      <td>6.339556e+08</td>\n",
       "      <td>0.379164</td>\n",
       "      <td>0.306522</td>\n",
       "      <td>0.483168</td>\n",
       "      <td>0.326626</td>\n",
       "      <td>0.323137</td>\n",
       "      <td>0.434660</td>\n",
       "      <td>0.233417</td>\n",
       "      <td>0.361180</td>\n",
       "      <td>0.314179</td>\n",
       "    </tr>\n",
       "    <tr>\n",
       "      <th>min</th>\n",
       "      <td>1.000000</td>\n",
       "      <td>0.000000</td>\n",
       "      <td>0.000000</td>\n",
       "      <td>0.0</td>\n",
       "      <td>0.000000e+00</td>\n",
       "      <td>0.000000</td>\n",
       "      <td>0.000000</td>\n",
       "      <td>0.000000</td>\n",
       "      <td>0.000000</td>\n",
       "      <td>0.000000</td>\n",
       "      <td>0.000000</td>\n",
       "      <td>0.000000</td>\n",
       "      <td>0.000000</td>\n",
       "      <td>0.000000</td>\n",
       "    </tr>\n",
       "    <tr>\n",
       "      <th>25%</th>\n",
       "      <td>2987.250000</td>\n",
       "      <td>26.000000</td>\n",
       "      <td>0.000000</td>\n",
       "      <td>0.0</td>\n",
       "      <td>0.000000e+00</td>\n",
       "      <td>0.000000</td>\n",
       "      <td>0.000000</td>\n",
       "      <td>0.000000</td>\n",
       "      <td>0.000000</td>\n",
       "      <td>0.000000</td>\n",
       "      <td>0.000000</td>\n",
       "      <td>0.000000</td>\n",
       "      <td>0.000000</td>\n",
       "      <td>0.000000</td>\n",
       "    </tr>\n",
       "    <tr>\n",
       "      <th>50%</th>\n",
       "      <td>5997.500000</td>\n",
       "      <td>103.000000</td>\n",
       "      <td>1.000000</td>\n",
       "      <td>0.0</td>\n",
       "      <td>1.362196e+09</td>\n",
       "      <td>0.000000</td>\n",
       "      <td>0.000000</td>\n",
       "      <td>0.000000</td>\n",
       "      <td>0.000000</td>\n",
       "      <td>0.000000</td>\n",
       "      <td>0.000000</td>\n",
       "      <td>0.000000</td>\n",
       "      <td>0.000000</td>\n",
       "      <td>0.000000</td>\n",
       "    </tr>\n",
       "    <tr>\n",
       "      <th>75%</th>\n",
       "      <td>8987.750000</td>\n",
       "      <td>234.000000</td>\n",
       "      <td>1.000000</td>\n",
       "      <td>0.0</td>\n",
       "      <td>1.386654e+09</td>\n",
       "      <td>0.000000</td>\n",
       "      <td>0.000000</td>\n",
       "      <td>1.000000</td>\n",
       "      <td>0.000000</td>\n",
       "      <td>0.000000</td>\n",
       "      <td>1.000000</td>\n",
       "      <td>0.000000</td>\n",
       "      <td>0.000000</td>\n",
       "      <td>0.000000</td>\n",
       "    </tr>\n",
       "    <tr>\n",
       "      <th>max</th>\n",
       "      <td>12000.000000</td>\n",
       "      <td>416.000000</td>\n",
       "      <td>1.000000</td>\n",
       "      <td>0.0</td>\n",
       "      <td>1.402067e+09</td>\n",
       "      <td>1.000000</td>\n",
       "      <td>1.000000</td>\n",
       "      <td>1.000000</td>\n",
       "      <td>1.000000</td>\n",
       "      <td>1.000000</td>\n",
       "      <td>1.000000</td>\n",
       "      <td>1.000000</td>\n",
       "      <td>1.000000</td>\n",
       "      <td>1.000000</td>\n",
       "    </tr>\n",
       "  </tbody>\n",
       "</table>\n",
       "</div>"
      ],
      "text/plain": [
       "            user_id        org_id       visited  adopted_user  \\\n",
       "count  10394.000000  10394.000000  10394.000000       10394.0   \n",
       "mean    5993.826438    138.675582      0.694343           0.0   \n",
       "std     3462.305029    123.910621      0.460707           0.0   \n",
       "min        1.000000      0.000000      0.000000           0.0   \n",
       "25%     2987.250000     26.000000      0.000000           0.0   \n",
       "50%     5997.500000    103.000000      1.000000           0.0   \n",
       "75%     8987.750000    234.000000      1.000000           0.0   \n",
       "max    12000.000000    416.000000      1.000000           0.0   \n",
       "\n",
       "       last_session_creation_time  opted_in_to_mailing_list  \\\n",
       "count                1.039400e+04              10394.000000   \n",
       "mean                 9.551555e+08                  0.174043   \n",
       "std                  6.339556e+08                  0.379164   \n",
       "min                  0.000000e+00                  0.000000   \n",
       "25%                  0.000000e+00                  0.000000   \n",
       "50%                  1.362196e+09                  0.000000   \n",
       "75%                  1.386654e+09                  0.000000   \n",
       "max                  1.402067e+09                  1.000000   \n",
       "\n",
       "       enabled_for_marketing_drip    got_invite   sent_invite  \\\n",
       "count                10394.000000  10394.000000  10394.000000   \n",
       "mean                     0.104964      0.371272      0.121416   \n",
       "std                      0.306522      0.483168      0.326626   \n",
       "min                      0.000000      0.000000      0.000000   \n",
       "25%                      0.000000      0.000000      0.000000   \n",
       "50%                      0.000000      0.000000      0.000000   \n",
       "75%                      0.000000      1.000000      0.000000   \n",
       "max                      1.000000      1.000000      1.000000   \n",
       "\n",
       "       creation_source_GUEST_INVITE  creation_source_ORG_INVITE  \\\n",
       "count                  10394.000000                10394.000000   \n",
       "mean                       0.118434                    0.252838   \n",
       "std                        0.323137                    0.434660   \n",
       "min                        0.000000                    0.000000   \n",
       "25%                        0.000000                    0.000000   \n",
       "50%                        0.000000                    0.000000   \n",
       "75%                        0.000000                    1.000000   \n",
       "max                        1.000000                    1.000000   \n",
       "\n",
       "       creation_source_PERSONAL_PROJECTS  creation_source_SIGNUP  \\\n",
       "count                       10394.000000            10394.000000   \n",
       "mean                            0.057822                0.154224   \n",
       "std                             0.233417                0.361180   \n",
       "min                             0.000000                0.000000   \n",
       "25%                             0.000000                0.000000   \n",
       "50%                             0.000000                0.000000   \n",
       "75%                             0.000000                0.000000   \n",
       "max                             1.000000                1.000000   \n",
       "\n",
       "       creation_source_SIGNUP_GOOGLE_AUTH  \n",
       "count                        10394.000000  \n",
       "mean                             0.111026  \n",
       "std                              0.314179  \n",
       "min                              0.000000  \n",
       "25%                              0.000000  \n",
       "50%                              0.000000  \n",
       "75%                              0.000000  \n",
       "max                              1.000000  "
      ]
     },
     "execution_count": 263,
     "metadata": {},
     "output_type": "execute_result"
    }
   ],
   "source": [
    "full_table[full_table['adopted_user']==0].describe()"
   ]
  },
  {
   "cell_type": "code",
   "execution_count": 264,
   "id": "8a75d75d",
   "metadata": {},
   "outputs": [
    {
     "data": {
      "text/html": [
       "<div>\n",
       "<style scoped>\n",
       "    .dataframe tbody tr th:only-of-type {\n",
       "        vertical-align: middle;\n",
       "    }\n",
       "\n",
       "    .dataframe tbody tr th {\n",
       "        vertical-align: top;\n",
       "    }\n",
       "\n",
       "    .dataframe thead th {\n",
       "        text-align: right;\n",
       "    }\n",
       "</style>\n",
       "<table border=\"1\" class=\"dataframe\">\n",
       "  <thead>\n",
       "    <tr style=\"text-align: right;\">\n",
       "      <th></th>\n",
       "      <th>user_id</th>\n",
       "      <th>org_id</th>\n",
       "      <th>visited</th>\n",
       "      <th>adopted_user</th>\n",
       "      <th>last_session_creation_time</th>\n",
       "      <th>opted_in_to_mailing_list</th>\n",
       "      <th>enabled_for_marketing_drip</th>\n",
       "      <th>got_invite</th>\n",
       "      <th>sent_invite</th>\n",
       "      <th>creation_source_GUEST_INVITE</th>\n",
       "      <th>creation_source_ORG_INVITE</th>\n",
       "      <th>creation_source_PERSONAL_PROJECTS</th>\n",
       "      <th>creation_source_SIGNUP</th>\n",
       "      <th>creation_source_SIGNUP_GOOGLE_AUTH</th>\n",
       "    </tr>\n",
       "  </thead>\n",
       "  <tbody>\n",
       "    <tr>\n",
       "      <th>count</th>\n",
       "      <td>1606.000000</td>\n",
       "      <td>1606.000000</td>\n",
       "      <td>1606.0</td>\n",
       "      <td>1606.0</td>\n",
       "      <td>1.606000e+03</td>\n",
       "      <td>1606.000000</td>\n",
       "      <td>1606.000000</td>\n",
       "      <td>1606.000000</td>\n",
       "      <td>1606.000000</td>\n",
       "      <td>1606.000000</td>\n",
       "      <td>1606.000000</td>\n",
       "      <td>1606.000000</td>\n",
       "      <td>1606.000000</td>\n",
       "      <td>1606.000000</td>\n",
       "    </tr>\n",
       "    <tr>\n",
       "      <th>mean</th>\n",
       "      <td>6043.691158</td>\n",
       "      <td>162.653176</td>\n",
       "      <td>1.0</td>\n",
       "      <td>1.0</td>\n",
       "      <td>1.395700e+09</td>\n",
       "      <td>0.259651</td>\n",
       "      <td>0.155666</td>\n",
       "      <td>0.570984</td>\n",
       "      <td>0.231631</td>\n",
       "      <td>0.222291</td>\n",
       "      <td>0.348692</td>\n",
       "      <td>0.101494</td>\n",
       "      <td>0.183686</td>\n",
       "      <td>0.143836</td>\n",
       "    </tr>\n",
       "    <tr>\n",
       "      <th>std</th>\n",
       "      <td>3477.553247</td>\n",
       "      <td>123.028300</td>\n",
       "      <td>0.0</td>\n",
       "      <td>0.0</td>\n",
       "      <td>1.288262e+07</td>\n",
       "      <td>0.438580</td>\n",
       "      <td>0.362652</td>\n",
       "      <td>0.495090</td>\n",
       "      <td>0.422006</td>\n",
       "      <td>0.415915</td>\n",
       "      <td>0.476705</td>\n",
       "      <td>0.302076</td>\n",
       "      <td>0.387349</td>\n",
       "      <td>0.351032</td>\n",
       "    </tr>\n",
       "    <tr>\n",
       "      <th>min</th>\n",
       "      <td>2.000000</td>\n",
       "      <td>0.000000</td>\n",
       "      <td>1.0</td>\n",
       "      <td>1.0</td>\n",
       "      <td>1.341244e+09</td>\n",
       "      <td>0.000000</td>\n",
       "      <td>0.000000</td>\n",
       "      <td>0.000000</td>\n",
       "      <td>0.000000</td>\n",
       "      <td>0.000000</td>\n",
       "      <td>0.000000</td>\n",
       "      <td>0.000000</td>\n",
       "      <td>0.000000</td>\n",
       "      <td>0.000000</td>\n",
       "    </tr>\n",
       "    <tr>\n",
       "      <th>25%</th>\n",
       "      <td>3068.000000</td>\n",
       "      <td>53.000000</td>\n",
       "      <td>1.0</td>\n",
       "      <td>1.0</td>\n",
       "      <td>1.400070e+09</td>\n",
       "      <td>0.000000</td>\n",
       "      <td>0.000000</td>\n",
       "      <td>0.000000</td>\n",
       "      <td>0.000000</td>\n",
       "      <td>0.000000</td>\n",
       "      <td>0.000000</td>\n",
       "      <td>0.000000</td>\n",
       "      <td>0.000000</td>\n",
       "      <td>0.000000</td>\n",
       "    </tr>\n",
       "    <tr>\n",
       "      <th>50%</th>\n",
       "      <td>6047.000000</td>\n",
       "      <td>140.500000</td>\n",
       "      <td>1.0</td>\n",
       "      <td>1.0</td>\n",
       "      <td>1.401312e+09</td>\n",
       "      <td>0.000000</td>\n",
       "      <td>0.000000</td>\n",
       "      <td>1.000000</td>\n",
       "      <td>0.000000</td>\n",
       "      <td>0.000000</td>\n",
       "      <td>0.000000</td>\n",
       "      <td>0.000000</td>\n",
       "      <td>0.000000</td>\n",
       "      <td>0.000000</td>\n",
       "    </tr>\n",
       "    <tr>\n",
       "      <th>75%</th>\n",
       "      <td>9106.250000</td>\n",
       "      <td>264.750000</td>\n",
       "      <td>1.0</td>\n",
       "      <td>1.0</td>\n",
       "      <td>1.401810e+09</td>\n",
       "      <td>1.000000</td>\n",
       "      <td>0.000000</td>\n",
       "      <td>1.000000</td>\n",
       "      <td>0.000000</td>\n",
       "      <td>0.000000</td>\n",
       "      <td>1.000000</td>\n",
       "      <td>0.000000</td>\n",
       "      <td>0.000000</td>\n",
       "      <td>0.000000</td>\n",
       "    </tr>\n",
       "    <tr>\n",
       "      <th>max</th>\n",
       "      <td>11988.000000</td>\n",
       "      <td>415.000000</td>\n",
       "      <td>1.0</td>\n",
       "      <td>1.0</td>\n",
       "      <td>1.401926e+09</td>\n",
       "      <td>1.000000</td>\n",
       "      <td>1.000000</td>\n",
       "      <td>1.000000</td>\n",
       "      <td>1.000000</td>\n",
       "      <td>1.000000</td>\n",
       "      <td>1.000000</td>\n",
       "      <td>1.000000</td>\n",
       "      <td>1.000000</td>\n",
       "      <td>1.000000</td>\n",
       "    </tr>\n",
       "  </tbody>\n",
       "</table>\n",
       "</div>"
      ],
      "text/plain": [
       "            user_id       org_id  visited  adopted_user  \\\n",
       "count   1606.000000  1606.000000   1606.0        1606.0   \n",
       "mean    6043.691158   162.653176      1.0           1.0   \n",
       "std     3477.553247   123.028300      0.0           0.0   \n",
       "min        2.000000     0.000000      1.0           1.0   \n",
       "25%     3068.000000    53.000000      1.0           1.0   \n",
       "50%     6047.000000   140.500000      1.0           1.0   \n",
       "75%     9106.250000   264.750000      1.0           1.0   \n",
       "max    11988.000000   415.000000      1.0           1.0   \n",
       "\n",
       "       last_session_creation_time  opted_in_to_mailing_list  \\\n",
       "count                1.606000e+03               1606.000000   \n",
       "mean                 1.395700e+09                  0.259651   \n",
       "std                  1.288262e+07                  0.438580   \n",
       "min                  1.341244e+09                  0.000000   \n",
       "25%                  1.400070e+09                  0.000000   \n",
       "50%                  1.401312e+09                  0.000000   \n",
       "75%                  1.401810e+09                  1.000000   \n",
       "max                  1.401926e+09                  1.000000   \n",
       "\n",
       "       enabled_for_marketing_drip   got_invite  sent_invite  \\\n",
       "count                 1606.000000  1606.000000  1606.000000   \n",
       "mean                     0.155666     0.570984     0.231631   \n",
       "std                      0.362652     0.495090     0.422006   \n",
       "min                      0.000000     0.000000     0.000000   \n",
       "25%                      0.000000     0.000000     0.000000   \n",
       "50%                      0.000000     1.000000     0.000000   \n",
       "75%                      0.000000     1.000000     0.000000   \n",
       "max                      1.000000     1.000000     1.000000   \n",
       "\n",
       "       creation_source_GUEST_INVITE  creation_source_ORG_INVITE  \\\n",
       "count                   1606.000000                 1606.000000   \n",
       "mean                       0.222291                    0.348692   \n",
       "std                        0.415915                    0.476705   \n",
       "min                        0.000000                    0.000000   \n",
       "25%                        0.000000                    0.000000   \n",
       "50%                        0.000000                    0.000000   \n",
       "75%                        0.000000                    1.000000   \n",
       "max                        1.000000                    1.000000   \n",
       "\n",
       "       creation_source_PERSONAL_PROJECTS  creation_source_SIGNUP  \\\n",
       "count                        1606.000000             1606.000000   \n",
       "mean                            0.101494                0.183686   \n",
       "std                             0.302076                0.387349   \n",
       "min                             0.000000                0.000000   \n",
       "25%                             0.000000                0.000000   \n",
       "50%                             0.000000                0.000000   \n",
       "75%                             0.000000                0.000000   \n",
       "max                             1.000000                1.000000   \n",
       "\n",
       "       creation_source_SIGNUP_GOOGLE_AUTH  \n",
       "count                         1606.000000  \n",
       "mean                             0.143836  \n",
       "std                              0.351032  \n",
       "min                              0.000000  \n",
       "25%                              0.000000  \n",
       "50%                              0.000000  \n",
       "75%                              0.000000  \n",
       "max                              1.000000  "
      ]
     },
     "execution_count": 264,
     "metadata": {},
     "output_type": "execute_result"
    }
   ],
   "source": [
    "full_table[full_table['adopted_user']==1].describe()"
   ]
  },
  {
   "cell_type": "code",
   "execution_count": null,
   "id": "47eb9748",
   "metadata": {},
   "outputs": [],
   "source": []
  }
 ],
 "metadata": {
  "kernelspec": {
   "display_name": "Python 3 (ipykernel)",
   "language": "python",
   "name": "python3"
  },
  "language_info": {
   "codemirror_mode": {
    "name": "ipython",
    "version": 3
   },
   "file_extension": ".py",
   "mimetype": "text/x-python",
   "name": "python",
   "nbconvert_exporter": "python",
   "pygments_lexer": "ipython3",
   "version": "3.9.7"
  }
 },
 "nbformat": 4,
 "nbformat_minor": 5
}
